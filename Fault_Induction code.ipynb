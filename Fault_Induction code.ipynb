{
  "nbformat": 4,
  "nbformat_minor": 0,
  "metadata": {
    "colab": {
      "name": "Fault_Induction.ipynb",
      "provenance": []
    },
    "kernelspec": {
      "name": "python3",
      "display_name": "Python 3"
    }
  },
  "cells": [
    {
      "cell_type": "code",
      "metadata": {
        "id": "Ldpd6FGi8XJf",
        "colab_type": "code",
        "colab": {}
      },
      "source": [
        "import matplotlib.pyplot as plt\n",
        "import numpy as np\n",
        "import pickle\n",
        "import random"
      ],
      "execution_count": 1,
      "outputs": []
    },
    {
      "cell_type": "markdown",
      "metadata": {
        "id": "a_n5-Om88gqB",
        "colab_type": "text"
      },
      "source": [
        "Read clean data from .csv file"
      ]
    },
    {
      "cell_type": "code",
      "metadata": {
        "id": "Y4XgyvZm8dpR",
        "colab_type": "code",
        "colab": {}
      },
      "source": [
        "data=np.genfromtxt(\"Single Hop Outdoor4.csv\",delimiter=\",\")"
      ],
      "execution_count": 2,
      "outputs": []
    },
    {
      "cell_type": "markdown",
      "metadata": {
        "id": "XLz9NsHv8p4P",
        "colab_type": "text"
      },
      "source": [
        "Separating temperature and humidity data\n",
        "\n",
        "The fault labels created are as follows:\n",
        "\n",
        "*   no fault = 0\n",
        "*   random fault = 1\n",
        "*   malfunction fault = 2\n",
        "*   drift fault = 3\n",
        "*   bias fault = 4"
      ]
    },
    {
      "cell_type": "code",
      "metadata": {
        "id": "F6FGK61f8ozf",
        "colab_type": "code",
        "colab": {}
      },
      "source": [
        "columns=np.transpose(data)\n",
        "temperature=columns[3]          #temperature data\n",
        "humidity=columns[2]             #humidity data\n",
        "label=columns[4]                #original data label\n",
        "fault=columns[5]                #fault label corresponding to the type of fault:"
      ],
      "execution_count": 3,
      "outputs": []
    },
    {
      "cell_type": "markdown",
      "metadata": {
        "id": "Hp6gO9uD9idK",
        "colab_type": "text"
      },
      "source": [
        "Randomly define intervals for faults"
      ]
    },
    {
      "cell_type": "code",
      "metadata": {
        "id": "eatXEb059sTU",
        "colab_type": "code",
        "colab": {}
      },
      "source": [
        "#random fault interval\n",
        "t1=[[2,10],[80,87]]\n",
        "h1=[[40,45],[70,80]]\n",
        "#malfunction fault interval\n",
        "t2=[[12,15],[64,69],[86,90]]\n",
        "h2=[[31,35],[82,85]]\n",
        "#drift fault interval\n",
        "t3=[[44,48],[70,72]]\n",
        "h3=[[24,27]]\n",
        "#bias fault interval\n",
        "t4=[[75,78],[92,98]]\n",
        "h4=[[14,18],[50,52],[88,96]]"
      ],
      "execution_count": 4,
      "outputs": []
    },
    {
      "cell_type": "markdown",
      "metadata": {
        "id": "gEoKFOtj9x3q",
        "colab_type": "text"
      },
      "source": [
        "Function to plot 'clean vs fault' induced data"
      ]
    },
    {
      "cell_type": "code",
      "metadata": {
        "id": "w-YywOH2946U",
        "colab_type": "code",
        "colab": {}
      },
      "source": [
        "def plot_data(values,faulty,t,x,y):\n",
        "        plt.figure()\n",
        "        plt.plot(np.arange(len(faulty)),faulty,color='orange',label=\"Faulty\")\n",
        "        plt.plot(np.arange(len(values)),values,color='blue',label=\"Clean\")\n",
        "        plt.xlabel(x)\n",
        "        plt.ylabel(y)\n",
        "        plt.title(t)\n",
        "        leg = plt.legend()\n",
        "        plt.show()"
      ],
      "execution_count": 5,
      "outputs": []
    },
    {
      "cell_type": "markdown",
      "metadata": {
        "id": "c1sEOhuL98nv",
        "colab_type": "text"
      },
      "source": [
        "Function definition to calculate normal distribution"
      ]
    },
    {
      "cell_type": "code",
      "metadata": {
        "id": "Hd0ZVW6U-DDV",
        "colab_type": "code",
        "colab": {}
      },
      "source": [
        "def normal_distribution(mu,v,sd,x):             #given mean, variance, standard deviation, data \n",
        "    pi=3.14159265\n",
        "    nd=np.exp((((x-mu)/sd)**2)*(-1/2))\n",
        "    root2pi=(2*pi)**(1/2)\n",
        "    nd=nd*(1/(sd*root2pi))\n",
        "    return nd"
      ],
      "execution_count": 6,
      "outputs": []
    },
    {
      "cell_type": "markdown",
      "metadata": {
        "id": "hetrwB4r-Iv0",
        "colab_type": "text"
      },
      "source": [
        "Make copy of data for plotting purpose"
      ]
    },
    {
      "cell_type": "code",
      "metadata": {
        "id": "A0mYWEpq7TTF",
        "colab_type": "code",
        "colab": {}
      },
      "source": [
        "clean_temperature=np.copy(temperature)\n",
        "faulty_temperature=np.copy(temperature)\n",
        "\n",
        "clean_humidity=np.copy(humidity)\n",
        "faulty_humidity=np.copy(humidity)"
      ],
      "execution_count": 7,
      "outputs": []
    },
    {
      "cell_type": "markdown",
      "metadata": {
        "id": "8b18JziT8Rzu",
        "colab_type": "text"
      },
      "source": [
        "1. RANDOM FAULT"
      ]
    },
    {
      "cell_type": "code",
      "metadata": {
        "id": "k9gxFmAy8PbX",
        "colab_type": "code",
        "colab": {}
      },
      "source": [
        "random_I=[0.15,0.3,0.5,1]               #intensity vector\n",
        "data_size=temperature.shape[0]\n",
        "dr=0.2                                  #density parameter\n",
        "\n",
        "def random_faults(ival,dr,random_I,faulty_data,fault,data_size):\n",
        "    for interval in ival:\n",
        "        start=int((interval[0]*data_size)/100)\n",
        "        end=int((interval[1]*data_size)/100)\n",
        "        s=faulty_data[start:end]\n",
        "        for i in range(start,end):\n",
        "            p=random.randint(0,101)\n",
        "            r=random.randint(1,len(random_I)-1)\n",
        "            if p>dr:\n",
        "                pass\n",
        "            else:\n",
        "                x_new=faulty_data[i]*(1+random_I[r])\n",
        "                faulty_data[i]=x_new\n",
        "                fault[i]=1\n",
        "    return(faulty_data)\n",
        "\n",
        "\n",
        "faulty_temperature=random_faults(t1,dr,random_I,temperature,fault,data_size)\n",
        "#plot_data(clean_temperature,faulty_temperature)\n",
        "faulty_humidity=random_faults(h1,dr,random_I,humidity,fault,data_size)\n",
        "#plot_data(clean_humidity,faulty_humidity)"
      ],
      "execution_count": 8,
      "outputs": []
    },
    {
      "cell_type": "markdown",
      "metadata": {
        "id": "6ZtVbwSt8K0q",
        "colab_type": "text"
      },
      "source": [
        "2. MALFUNCTION FAULT"
      ]
    },
    {
      "cell_type": "code",
      "metadata": {
        "id": "FXxgDcZO8IG3",
        "colab_type": "code",
        "colab": {}
      },
      "source": [
        "noise_t=1.5                             #noise intensity value for temperature data\n",
        "noise_h=2.5                             #noise intensity value for humidity data\n",
        "\n",
        "def malfun(ival,faulty_data,fault,noise,data_size):\n",
        "    for interval in ival:\n",
        "        start=int((interval[0]*data_size)/100)\n",
        "        end=int((interval[1]*data_size)/100)\n",
        "        s=faulty_data[start:end]\n",
        "        v=np.var(s)\n",
        "        sd=np.std(s)\n",
        "        m=np.mean(s)\n",
        "        for i in range(start,end):\n",
        "            x_new=faulty_data[i]+(normal_distribution(m,v,sd,faulty_data[i])*noise)\n",
        "            faulty_data[i]=x_new\n",
        "            fault[i]=2\n",
        "    return(faulty_data)\n",
        "\n",
        "faulty_temperature=malfun(t2,temperature,fault,noise_t,data_size)\n",
        "#plot_data(clean_temperature,faulty_temperature)\n",
        "faulty_humidity=malfun(h2,humidity,fault,noise_h,data_size)\n",
        "#plot_data(clean_humidity,faulty_humidity)"
      ],
      "execution_count": 9,
      "outputs": []
    },
    {
      "cell_type": "markdown",
      "metadata": {
        "id": "fjabOOgG791F",
        "colab_type": "text"
      },
      "source": [
        "3. DRIFT FAULT"
      ]
    },
    {
      "cell_type": "code",
      "metadata": {
        "id": "4p19Q73N764y",
        "colab_type": "code",
        "colab": {}
      },
      "source": [
        "drift_I=[-0.5,-1,0.5,1]                 #intensity vector\n",
        "noise=0.8                               #noise intensity\n",
        "\n",
        "def drift_fault(ival,drift_I,faulty_data,fault,data_size,noise):\n",
        "    for interval in ival:\n",
        "        start=int((interval[0]*data_size)/100)\n",
        "        end=int((interval[1]*data_size)/100)\n",
        "        s=faulty_data[start:end]\n",
        "        r=random.randint(1,len(drift_I)-1)\n",
        "        v=np.var(s)\n",
        "        sd=np.std(s)\n",
        "        m=np.mean(s)\n",
        "        offset=s[0]*drift_I[r]\n",
        "        for i in range(start,end):\n",
        "            x_new=faulty_data[i]+(normal_distribution(m,v,sd,faulty_data[i])*noise)+offset\n",
        "            faulty_data[i]=x_new\n",
        "            fault[i]=3\n",
        "    return(faulty_data)\n",
        "\n",
        "faulty_temperature=drift_fault(t3,drift_I,temperature,fault,data_size,noise)\n",
        "#plot_data(clean_temperature,faulty_temperature)\n",
        "faulty_humidity=drift_fault(h3,drift_I,humidity,fault,data_size,noise)\n",
        "#plot_data(clean_humidity,faulty_humidity)"
      ],
      "execution_count": 10,
      "outputs": []
    },
    {
      "cell_type": "markdown",
      "metadata": {
        "id": "LCtF2lc27zwb",
        "colab_type": "text"
      },
      "source": [
        "4. BIAS FAULT"
      ]
    },
    {
      "cell_type": "code",
      "metadata": {
        "id": "jVqxx64P7ync",
        "colab_type": "code",
        "colab": {}
      },
      "source": [
        "bias_I=1.1                              #bias intensity\n",
        "noise=0                                 #noise intensity\n",
        "\n",
        "def bias_fault(ival,bias_I,faulty_data,fault,data_size,noise):\n",
        "    for interval in ival:\n",
        "        start=int((interval[0]*data_size)/100)\n",
        "        end=int((interval[1]*data_size)/100)\n",
        "        s=faulty_data[start:end]\n",
        "        v=np.var(s)\n",
        "        sd=np.std(s)\n",
        "        m=np.mean(s)\n",
        "        new_m=m*bias_I \n",
        "        for i in range(start,end):\n",
        "            x_new=new_m+(normal_distribution(m,v,sd,faulty_data[i])*noise)\n",
        "            faulty_data[i]=x_new\n",
        "            fault[i]=4\n",
        "    return(faulty_data)\n",
        "\n",
        "faulty_temperature=bias_fault(t4,bias_I,temperature,fault,data_size,noise)\n",
        "#plot_data(clean_temperature,faulty_temperature)\n",
        "faulty_humidity=bias_fault(h4,bias_I,humidity,fault,data_size,noise)\n",
        "#plot_data(clean_humidity,faulty_humidity)"
      ],
      "execution_count": 11,
      "outputs": []
    },
    {
      "cell_type": "markdown",
      "metadata": {
        "id": "BiFvpNqB7g2a",
        "colab_type": "text"
      },
      "source": [
        "Plot the data: clean vs faulty data"
      ]
    },
    {
      "cell_type": "code",
      "metadata": {
        "id": "KI8y9nA_7f8z",
        "colab_type": "code",
        "colab": {
          "base_uri": "https://localhost:8080/",
          "height": 573
        },
        "outputId": "2c279cbc-4d8c-4a00-f838-eecd0be16e69"
      },
      "source": [
        "plot_data(clean_temperature,faulty_temperature,\"Single_Hop_Outdoor_4 Temperature Sensor Data\",\"Reading Number\",u'Temperature(\\u00B0C)')\n",
        "plot_data(clean_humidity,faulty_humidity,\"Single_Hop_Outdoor_4 Humidity Sensor Data\",\"Reading Number\",f'Humidity (g/m\\N{SUPERSCRIPT THREE})')"
      ],
      "execution_count": 12,
      "outputs": [
        {
          "output_type": "display_data",
          "data": {
            "image/png": "[encoded data removed]",
            "text/plain": [
              "<Figure size 432x288 with 1 Axes>"
            ]
          },
          "metadata": {
            "tags": [],
            "needs_background": "light"
          }
        },
        {
          "output_type": "display_data",
          "data": {
            "image/png": "[encoded data removed]",
            "text/plain": [
              "<Figure size 432x288 with 1 Axes>"
            ]
          },
          "metadata": {
            "tags": [],
            "needs_background": "light"
          }
        }
      ]
    },
    {
      "cell_type": "markdown",
      "metadata": {
        "id": "7mJl8-jL7cE6",
        "colab_type": "text"
      },
      "source": [
        "Save the clean data and faulty data in separate .csv files"
      ]
    },
    {
      "cell_type": "code",
      "metadata": {
        "id": "xjLaMIfo7aHZ",
        "colab_type": "code",
        "colab": {}
      },
      "source": [
        "np.savetxt('single_outdoor_4_clean.csv', [p for p in zip(clean_temperature, clean_humidity,label)], delimiter=',', fmt='%s')\n",
        "np.savetxt('single_outdoor_4_faulty.csv', [q for q in zip(faulty_temperature, faulty_humidity,label,fault)], delimiter=',', fmt='%s')"
      ],
      "execution_count": 13,
      "outputs": []
    }
  ]
}